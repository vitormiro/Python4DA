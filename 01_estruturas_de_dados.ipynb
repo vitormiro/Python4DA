{
 "cells": [
  {
   "cell_type": "markdown",
   "metadata": {},
   "source": [
    "# Estruturas de dados\n",
    "\n",
    "### [Estruturas de dados nativas (*built-in*)](https://docs.python.org/pt-br/3/library/stdtypes.html)\n"
   ]
  },
  {
   "cell_type": "markdown",
   "metadata": {},
   "source": [
    "Tudo em Python é um objeto.\n",
    "E cada tipo de objeto tem suas próprias propriedades.\n",
    "\n",
    "Essas propriedades são chamadas de **métodos** (funções associadas ao objeto) e **atributos**."
   ]
  },
  {
   "cell_type": "markdown",
   "metadata": {},
   "source": [
    "## Tipos de dados do Python\n",
    "\n",
    "- Texto: *str* (*strings*)\n",
    "- Numéricos: *int* (nºs inteiros), *float* (nºs de ponto flutuante, com decimais), *complex* (nºs complexos)\n",
    "- Lógicos (Booleanos): *bool*\n",
    "- Binários: *bytes*, *bytearray*, *memoryview*  \n",
    "- Sequências: *list*, *tuplas*, *range*\n",
    "- Dicionários (Mapas): *dict*\n",
    "- Conjuntos: *set*, *frozenset* \n"
   ]
  },
  {
   "cell_type": "markdown",
   "metadata": {},
   "source": [
    "Podemos verificar o tipo de um objeto digitando o comando: `type(objeto)`"
   ]
  },
  {
   "cell_type": "markdown",
   "metadata": {},
   "source": [
    "### Tipos numéricos\n",
    "\n",
    "No Python (3), os tipos numéricos são divididos em três classes: inteiros (`int`), números de ponto flutuante (`float`) e números complexos (`complex`)."
   ]
  },
  {
   "cell_type": "code",
   "execution_count": 1,
   "metadata": {},
   "outputs": [],
   "source": [
    "a = 5"
   ]
  },
  {
   "cell_type": "markdown",
   "metadata": {},
   "source": [
    "Vamos usar a função `type()` para verificar o tipo do objeto (uma variável) `a`:"
   ]
  },
  {
   "cell_type": "code",
   "execution_count": 2,
   "metadata": {},
   "outputs": [
    {
     "data": {
      "text/plain": [
       "int"
      ]
     },
     "execution_count": 2,
     "metadata": {},
     "output_type": "execute_result"
    }
   ],
   "source": [
    "type(a)"
   ]
  },
  {
   "cell_type": "markdown",
   "metadata": {},
   "source": [
    "Mais um exemplo."
   ]
  },
  {
   "cell_type": "markdown",
   "metadata": {},
   "source": [
    "b = 3.2"
   ]
  },
  {
   "cell_type": "code",
   "execution_count": 5,
   "metadata": {},
   "outputs": [
    {
     "data": {
      "text/plain": [
       "float"
      ]
     },
     "execution_count": 5,
     "metadata": {},
     "output_type": "execute_result"
    }
   ],
   "source": [
    "type(b)"
   ]
  },
  {
   "cell_type": "markdown",
   "metadata": {},
   "source": [
    "#### [Operações com tipos numéricos](https://docs.python.org/3/library/stdtypes.html)\n",
    "\n",
    "<table class=\"docutils align-default\">\n",
    "<colgroup>\n",
    "<col style=\"width: 25%\" />\n",
    "<col style=\"width: 40%\" />\n",
    "<col style=\"width: 11%\" />\n",
    "<col style=\"width: 24%\" />\n",
    "</colgroup>\n",
    "<thead>\n",
    "<tr class=\"row-odd\"><th class=\"head\"><p>Operação</p></th>\n",
    "<th class=\"head\"><p>Resultado</p></th>\n",
    "<th class=\"head\"><p>Notas</p></th>\n",
    "<th class=\"head\"><p>Documentação completa</p></th>\n",
    "</tr>\n",
    "</thead>\n",
    "<tbody>\n",
    "<tr class=\"row-even\"><td><p><code class=\"docutils literal notranslate\"><span class=\"pre\">x</span> <span class=\"pre\">+</span> <span class=\"pre\">y</span></code></p></td>\n",
    "<td><p>soma de <em>x</em> e <em>y</em></p></td>\n",
    "<td></td>\n",
    "<td></td>\n",
    "</tr>\n",
    "<tr class=\"row-odd\"><td><p><code class=\"docutils literal notranslate\"><span class=\"pre\">x</span> <span class=\"pre\">-</span> <span class=\"pre\">y</span></code></p></td>\n",
    "<td><p>diferença de <em>x</em> e <em>y</em></p></td>\n",
    "<td></td>\n",
    "<td></td>\n",
    "</tr>\n",
    "<tr class=\"row-even\"><td><p><code class=\"docutils literal notranslate\"><span class=\"pre\">x</span> <span class=\"pre\">*</span> <span class=\"pre\">y</span></code></p></td>\n",
    "<td><p>produto de <em>x</em> e <em>y</em></p></td>\n",
    "<td></td>\n",
    "<td></td>\n",
    "</tr>\n",
    "<tr class=\"row-odd\"><td><p><code class=\"docutils literal notranslate\"><span class=\"pre\">x</span> <span class=\"pre\">/</span> <span class=\"pre\">y</span></code></p></td>\n",
    "<td><p>quociente de <em>x</em> e <em>y</em></p></td>\n",
    "<td></td>\n",
    "<td></td>\n",
    "</tr>\n",
    "<tr class=\"row-even\"><td><p><code class=\"docutils literal notranslate\"><span class=\"pre\">x</span> <span class=\"pre\">//</span> <span class=\"pre\">y</span></code></p></td>\n",
    "<td><p>piso do quociente de <em>x</em> e <em>y</em></p></td>\n",
    "<td><p>(1)</p></td>\n",
    "<td></td>\n",
    "</tr>\n",
    "<tr class=\"row-odd\"><td><p><code class=\"docutils literal notranslate\"><span class=\"pre\">x</span> <span class=\"pre\">%</span> <span class=\"pre\">y</span></code></p></td>\n",
    "<td><p>restante de <code class=\"docutils literal notranslate\"><span class=\"pre\">x</span> <span class=\"pre\">/</span> <span class=\"pre\">y</span></code></p></td>\n",
    "<td><p>(2)</p></td>\n",
    "<td></td>\n",
    "</tr>\n",
    "<tr class=\"row-even\"><td><p><code class=\"docutils literal notranslate\"><span class=\"pre\">-x</span></code></p></td>\n",
    "<td><p><em>x</em> negado</p></td>\n",
    "<td></td>\n",
    "<td></td>\n",
    "</tr>\n",
    "<tr class=\"row-odd\"><td><p><code class=\"docutils literal notranslate\"><span class=\"pre\">+x</span></code></p></td>\n",
    "<td><p><em>x</em> inalterado</p></td>\n",
    "<td></td>\n",
    "<td></td>\n",
    "</tr>\n",
    "<tr class=\"row-even\"><td><p><code class=\"docutils literal notranslate\"><span class=\"pre\">abs(x)</span></code></p></td>\n",
    "<td><p>valor absoluto ou magnitude de <em>x</em></p></td>\n",
    "<td></td>\n",
    "<td><p><a class=\"reference internal\" href=\"functions.html#abs\" title=\"abs\"><code class=\"xref py py-func docutils literal notranslate\"><span class=\"pre\">abs()</span></code></a></p></td>\n",
    "</tr>\n",
    "<tr class=\"row-odd\"><td><p><code class=\"docutils literal notranslate\"><span class=\"pre\">int(x)</span></code></p></td>\n",
    "<td><p><em>x</em> convertido em inteiro</p></td>\n",
    "<td><p>(3)(6)</p></td>\n",
    "<td><p><a class=\"reference internal\" href=\"functions.html#int\" title=\"int\"><code class=\"xref py py-func docutils literal notranslate\"><span class=\"pre\">int()</span></code></a></p></td>\n",
    "</tr>\n",
    "<tr class=\"row-even\"><td><p><code class=\"docutils literal notranslate\"><span class=\"pre\">float(x)</span></code></p></td>\n",
    "<td><p><em>x</em> convertido em ponto flutuante</p></td>\n",
    "<td><p>(4)(6)</p></td>\n",
    "<td><p><a class=\"reference internal\" href=\"functions.html#float\" title=\"float\"><code class=\"xref py py-func docutils literal notranslate\"><span class=\"pre\">float()</span></code></a></p></td>\n",
    "</tr>\n",
    "<tr class=\"row-odd\"><td><p><code class=\"docutils literal notranslate\"><span class=\"pre\">complex(re,</span> <span class=\"pre\">im)</span></code></p></td>\n",
    "<td><p>um número complexo com parte real <em>re</em>, parte imaginária <em>im</em>. <em>im</em> tem como padrão zero.</p></td>\n",
    "<td><p>(6)</p></td>\n",
    "<td><p><a class=\"reference internal\" href=\"functions.html#complex\" title=\"complex\"><code class=\"xref py py-func docutils literal notranslate\"><span class=\"pre\">complex()</span></code></a></p></td>\n",
    "</tr>\n",
    "<tr class=\"row-even\"><td><p><code class=\"docutils literal notranslate\"><span class=\"pre\">c.conjugate()</span></code></p></td>\n",
    "<td><p>conjugado do número complexo <em>c</em></p></td>\n",
    "<td></td>\n",
    "<td></td>\n",
    "</tr>\n",
    "<tr class=\"row-odd\"><td><p><code class=\"docutils literal notranslate\"><span class=\"pre\">divmod(x,</span> <span class=\"pre\">y)</span></code></p></td>\n",
    "<td><p>o par <code class=\"docutils literal notranslate\"><span class=\"pre\">(x</span> <span class=\"pre\">//</span> <span class=\"pre\">y,</span> <span class=\"pre\">x</span> <span class=\"pre\">%</span> <span class=\"pre\">y)</span></code></p></td>\n",
    "<td><p>(2)</p></td>\n",
    "<td><p><a class=\"reference internal\" href=\"functions.html#divmod\" title=\"divmod\"><code class=\"xref py py-func docutils literal notranslate\"><span class=\"pre\">divmod()</span></code></a></p></td>\n",
    "</tr>\n",
    "<tr class=\"row-even\"><td><p><code class=\"docutils literal notranslate\"><span class=\"pre\">pow(x,</span> <span class=\"pre\">y)</span></code></p></td>\n",
    "<td><p><em>x</em> elevado a <em>y</em></p></td>\n",
    "<td><p>(5)</p></td>\n",
    "<td><p><a class=\"reference internal\" href=\"functions.html#pow\" title=\"pow\"><code class=\"xref py py-func docutils literal notranslate\"><span class=\"pre\">pow()</span></code></a></p></td>\n",
    "</tr>\n",
    "<tr class=\"row-odd\"><td><p><code class=\"docutils literal notranslate\"><span class=\"pre\">x</span> <span class=\"pre\">**</span> <span class=\"pre\">y</span></code></p></td>\n",
    "<td><p><em>x</em> elevado a <em>y</em></p></td>\n",
    "<td><p>(5)</p></td>\n",
    "<td></td>\n",
    "</tr>\n",
    "</tbody>\n",
    "</table>"
   ]
  },
  {
   "cell_type": "code",
   "execution_count": null,
   "metadata": {},
   "outputs": [],
   "source": []
  }
 ],
 "metadata": {
  "kernelspec": {
   "display_name": "Python 3",
   "language": "python",
   "name": "python3"
  },
  "language_info": {
   "codemirror_mode": {
    "name": "ipython",
    "version": 3
   },
   "file_extension": ".py",
   "mimetype": "text/x-python",
   "name": "python",
   "nbconvert_exporter": "python",
   "pygments_lexer": "ipython3",
   "version": "3.7.6"
  }
 },
 "nbformat": 4,
 "nbformat_minor": 4
}
